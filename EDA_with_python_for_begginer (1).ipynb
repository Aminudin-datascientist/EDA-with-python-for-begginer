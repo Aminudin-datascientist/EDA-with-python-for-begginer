{
  "nbformat": 4,
  "nbformat_minor": 0,
  "metadata": {
    "colab": {
      "name": "EDA with python for begginer.ipynb",
      "provenance": []
    },
    "kernelspec": {
      "name": "python3",
      "display_name": "Python 3"
    }
  },
  "cells": [
    {
      "cell_type": "code",
      "metadata": {
        "id": "MscdvN5Drt4Z"
      },
      "source": [
        "import numpy as np\n",
        "import pandas as pd"
      ],
      "execution_count": 1,
      "outputs": []
    },
    {
      "cell_type": "code",
      "metadata": {
        "id": "23x8B1qOuHaY"
      },
      "source": [
        "import pandas as pd\n",
        "order_df = pd.read_csv(\"https://dqlab-dataset.s3-ap-southeast-1.amazonaws.com/order.csv\")"
      ],
      "execution_count": 2,
      "outputs": []
    },
    {
      "cell_type": "code",
      "metadata": {
        "id": "2ONyDlR5ucZt",
        "outputId": "f5148d7b-950b-4b49-9f27-64945e084296",
        "colab": {
          "base_uri": "https://localhost:8080/"
        }
      },
      "source": [
        "print(order_df.shape)"
      ],
      "execution_count": 3,
      "outputs": [
        {
          "output_type": "stream",
          "text": [
            "(49999, 12)\n"
          ],
          "name": "stdout"
        }
      ]
    },
    {
      "cell_type": "code",
      "metadata": {
        "id": "XIkXHH_Wvqo_",
        "outputId": "99dc36fc-3e4a-485c-ca9d-36707d354767",
        "colab": {
          "base_uri": "https://localhost:8080/"
        }
      },
      "source": [
        "print(order_df.head(10))"
      ],
      "execution_count": 31,
      "outputs": [
        {
          "output_type": "stream",
          "text": [
            "                           order_id  ...  product_weight_gram\n",
            "0  2e7a8482f6fb09756ca50c10d7bfc047  ...               1800.0\n",
            "1  2e7a8482f6fb09756ca50c10d7bfc047  ...               1400.0\n",
            "2  e5fa5a7210941f7d56d0208e4e071d35  ...                700.0\n",
            "3  3b697a20d9e427646d92567910af6d57  ...                300.0\n",
            "4  71303d7e93b399f5bcd537d124c0bcfa  ...                500.0\n",
            "5  be5bc2f0da14d8071e2d45451ad119d9  ...                400.0\n",
            "6  0a0837a5eee9e7a9ce2b1fa831944d27  ...               3100.0\n",
            "7  1ff217aa612f6cd7c4255c9bfe931c8b  ...                200.0\n",
            "8  22613579f7d11cc59c4347526fc3c79e  ...                600.0\n",
            "9  356b492aba2d1a7da886e54e0b6212b7  ...                610.0\n",
            "\n",
            "[10 rows x 12 columns]\n"
          ],
          "name": "stdout"
        }
      ]
    },
    {
      "cell_type": "code",
      "metadata": {
        "id": "5G6mn847yISe",
        "outputId": "1f314463-b378-4e5c-8e04-8a1c96dea50c",
        "colab": {
          "base_uri": "https://localhost:8080/"
        }
      },
      "source": [
        "import pandas as pd\n",
        "order_df = pd.read_csv(\"https://dqlab-dataset.s3-ap-southeast-1.amazonaws.com/order.csv\")\n",
        "# Quick summary  dari segi kuantitas, harga, freight value, dan weight\n",
        "print(order_df.describe())\n",
        "# Median median dari total pembelian konsumen per transaksi kolom price\n",
        "print(order_df.loc[:, \"price\"].median())"
      ],
      "execution_count": 11,
      "outputs": [
        {
          "output_type": "stream",
          "text": [
            "           quantity         price  freight_value  product_weight_gram\n",
            "count  49999.000000  4.999900e+04   49999.000000         49980.000000\n",
            "mean       1.197484  2.607784e+06  104521.390428          2201.830892\n",
            "std        0.722262  1.388312e+06   55179.844962          3929.896875\n",
            "min        1.000000  2.000000e+05    9000.000000            50.000000\n",
            "25%        1.000000  1.410500e+06   57000.000000           300.000000\n",
            "50%        1.000000  2.610000e+06  104000.000000           800.000000\n",
            "75%        1.000000  3.810000e+06  152000.000000          1850.000000\n",
            "max       21.000000  5.000000e+06  200000.000000         40425.000000\n",
            "2610000.0\n"
          ],
          "name": "stdout"
        }
      ]
    },
    {
      "cell_type": "code",
      "metadata": {
        "id": "5fJ_-vXty0J3",
        "outputId": "f79b27b0-2511-4029-cecf-d36bdb7182e1",
        "colab": {
          "base_uri": "https://localhost:8080/",
          "height": 333
        }
      },
      "source": [
        "import pandas as pd\n",
        "import matplotlib.pyplot as plt\n",
        "order_df = pd.read_csv(\"https://dqlab-dataset.s3-ap-southeast-1.amazonaws.com/order.csv\")\n",
        "# plot histogram kolom: price\n",
        "order_df[[\"price\"]].plot.hist(figsize=(4, 5), bins=10)\n",
        "plt.show()  # Untuk menampilkan histogram plot"
      ],
      "execution_count": 34,
      "outputs": [
        {
          "output_type": "display_data",
          "data": {
            "image/png": "[encoded data removed]",
            "text/plain": [
              "<Figure size 288x360 with 1 Axes>"
            ]
          },
          "metadata": {
            "tags": [],
            "needs_background": "light"
          }
        }
      ]
    },
    {
      "cell_type": "code",
      "metadata": {
        "id": "uiQy9Oru1RIz",
        "outputId": "30a49788-ee92-4510-d45e-e334a1e32c5e",
        "colab": {
          "base_uri": "https://localhost:8080/"
        }
      },
      "source": [
        "import pandas as pd\n",
        "order_df = pd.read_csv(\"https://dqlab-dataset.s3-ap-southeast-1.amazonaws.com/order.csv\")\n",
        "# Standar variasi kolom product_weight_gram\n",
        "order_df.loc[:, \"product_weight_gram\"].std()\n",
        "# Varians kolom product_weight_gram\n",
        "order_df.loc[:, \"product_weight_gram\"].var()"
      ],
      "execution_count": 16,
      "outputs": [
        {
          "output_type": "execute_result",
          "data": {
            "text/plain": [
              "15444089.451064402"
            ]
          },
          "metadata": {
            "tags": []
          },
          "execution_count": 16
        }
      ]
    },
    {
      "cell_type": "code",
      "metadata": {
        "id": "aVPfT8cH2mMz",
        "outputId": "88cd8ccb-8160-4423-b43f-e7791aad58df",
        "colab": {
          "base_uri": "https://localhost:8080/"
        }
      },
      "source": [
        "import pandas as pd\n",
        "order_df = pd.read_csv(\"https://dqlab-dataset.s3-ap-southeast-1.amazonaws.com/order.csv\")\n",
        "# Hitung quartile 1\n",
        "Q1 = order_df[[\"product_weight_gram\"]].quantile(0.25)\n",
        "# Hitung quartile 3\n",
        "Q3 = order_df[[\"product_weight_gram\"]].quantile(0.75)\n",
        "# Hitung inter quartile range dan cetak ke console\n",
        "IQR = Q3 - Q1\n",
        "print(IQR)"
      ],
      "execution_count": 22,
      "outputs": [
        {
          "output_type": "stream",
          "text": [
            "product_weight_gram    1550.0\n",
            "dtype: float64\n"
          ],
          "name": "stdout"
        }
      ]
    },
    {
      "cell_type": "code",
      "metadata": {
        "id": "2R5Qgzwf7Sa1",
        "outputId": "e1fabcf6-6561-4014-80eb-2aac3513ca3d",
        "colab": {
          "base_uri": "https://localhost:8080/"
        }
      },
      "source": [
        "import pandas as pd\n",
        "order_df = pd.read_csv(\"https://dqlab-dataset.s3-ap-southeast-1.amazonaws.com/order.csv\")\n",
        "# Ganti nama kolom freight_value menjadi shipping_cost\n",
        "order_df.rename(columns={\"freight_value\": \"shipping_cost\"}, inplace=True)\n",
        "print(order_df)"
      ],
      "execution_count": 23,
      "outputs": [
        {
          "output_type": "stream",
          "text": [
            "                               order_id  ...  product_weight_gram\n",
            "0      2e7a8482f6fb09756ca50c10d7bfc047  ...               1800.0\n",
            "1      2e7a8482f6fb09756ca50c10d7bfc047  ...               1400.0\n",
            "2      e5fa5a7210941f7d56d0208e4e071d35  ...                700.0\n",
            "3      3b697a20d9e427646d92567910af6d57  ...                300.0\n",
            "4      71303d7e93b399f5bcd537d124c0bcfa  ...                500.0\n",
            "...                                 ...  ...                  ...\n",
            "49994  ec88157ad03aa203c3fdfe7bace5ab6b  ...               2425.0\n",
            "49995  ed60085e92e2aa3debf49159deb34da7  ...               2350.0\n",
            "49996  ed98c37d860890f940e2acd83629fdd1  ...               2600.0\n",
            "49997  ed98c37d860890f940e2acd83629fdd1  ...               2600.0\n",
            "49998  ede4ebbb6e36cbd377eabcc7f5229575  ...               1450.0\n",
            "\n",
            "[49999 rows x 12 columns]\n"
          ],
          "name": "stdout"
        }
      ]
    },
    {
      "cell_type": "code",
      "metadata": {
        "id": "mh2x4QOQ8bu4",
        "outputId": "7a1da9dc-2dd5-4d61-cd0c-b758b472c6c9",
        "colab": {
          "base_uri": "https://localhost:8080/"
        }
      },
      "source": [
        "# Hitung quartile 1\n",
        "rata_rata = order_df[\"price\"].groupby(order_df[\"payment_type\"]).mean()\n",
        "print(rata_rata)"
      ],
      "execution_count": 27,
      "outputs": [
        {
          "output_type": "stream",
          "text": [
            "payment_type\n",
            "credit card        2.600706e+06\n",
            "debit card         2.611974e+06\n",
            "e-wallet           2.598562e+06\n",
            "virtual account    2.619786e+06\n",
            "Name: price, dtype: float64\n"
          ],
          "name": "stdout"
        }
      ]
    },
    {
      "cell_type": "code",
      "metadata": {
        "id": "eO5m_eU19rFA",
        "outputId": "851c3ea5-346d-476c-f13d-db0aa4399195",
        "colab": {
          "base_uri": "https://localhost:8080/"
        }
      },
      "source": [
        "# Hitung harga maksimum pembelian customer\n",
        "sort_harga = order_df.sort_values(by=\"price\", ascending=False)\n",
        "print(sort_harga)"
      ],
      "execution_count": 35,
      "outputs": [
        {
          "output_type": "stream",
          "text": [
            "                               order_id  ...  product_weight_gram\n",
            "37085  d7b2d3b902441cf3dd12cd125533217d  ...               1825.0\n",
            "41958  2711089c7fec59d4dc8483e3c6a12fa3  ...                200.0\n",
            "3976   f343624eab419250ad81f1ce6be22c93  ...                950.0\n",
            "21072  c8947a583ab9791a5a9d02384cb84302  ...                550.0\n",
            "47074  f6134169ca6f0cdfbe6458ebb5731613  ...              10600.0\n",
            "...                                 ...  ...                  ...\n",
            "33786  0d9e86e02c1a823b20c03ea29d616607  ...               7550.0\n",
            "42166  54220fcc516cabe9ec84b210c0765ef2  ...               1100.0\n",
            "31745  59a19c83ff825948739dd1601cc107b6  ...                550.0\n",
            "42452  9960ee97c2f8d801a200a01893b3942f  ...               6663.0\n",
            "11939  64619901c45fba79638d666058bf6be6  ...                200.0\n",
            "\n",
            "[49999 rows x 12 columns]\n"
          ],
          "name": "stdout"
        }
      ]
    },
    {
      "cell_type": "code",
      "metadata": {
        "id": "WIS4qTgUEEZH",
        "outputId": "5d6b0658-af5e-4e25-bf4c-adc59bae09fb",
        "colab": {
          "base_uri": "https://localhost:8080/",
          "height": 1000
        }
      },
      "source": [
        "import pandas as pd\n",
        "import matplotlib.pyplot as plt\n",
        "order_df = pd.read_csv(\"https://dqlab-dataset.s3-ap-southeast-1.amazonaws.com/order.csv\")\n",
        "# Median price yang dibayar customer dari masing-masing metode pembayaran.\n",
        "median_price = order_df[\"price\"].groupby(order_df[\"payment_type\"]).median()\n",
        "print(median_price)\n",
        "# Ubah freight_value menjadi shipping_cost dan cari shipping_cost\n",
        "# termahal dari data penjualan tersebut menggunakan sort.\n",
        "order_df.rename(columns={\"freight_value\": \"shipping_cost\"}, inplace=True)\n",
        "sort_value = order_df.sort_values(by=\"shipping_cost\", ascending=0)\n",
        "print(sort_value)\n",
        "# Untuk product_category_name, berapa rata-rata weight produk tersebut\n",
        "# dan standar deviasi mana yang terkecil dari weight tersebut,\n",
        "mean_value = order_df[\"product_weight_gram\"].groupby(order_df[\"product_category_name\"]).mean()\n",
        "print(mean_value)\n",
        "std_value = order_df[\"product_weight_gram\"].groupby(order_df[\"product_category_name\"]).std()\n",
        "print(std_value)\n",
        "# Buat histogram quantity penjualan dari dataset tersebutuntuk melihat persebaran quantity\n",
        "# penjualan tersebut dengan bins = 5 dan figsize= (4,5)\n",
        "order_df[[\"quantity\"]].hist(figsize=(4, 5), bins=5)\n",
        "plt.show()"
      ],
      "execution_count": 29,
      "outputs": [
        {
          "output_type": "stream",
          "text": [
            "payment_type\n",
            "credit card        2587500\n",
            "debit card         2621500\n",
            "e-wallet           2589000\n",
            "virtual account    2643000\n",
            "Name: price, dtype: int64\n",
            "                               order_id  ...  product_weight_gram\n",
            "23829  7d63cb1d349e7bd0ee1edcc61ea71077  ...                400.0\n",
            "12011  00c9f7d4b0e87781465e562dc109f6aa  ...                900.0\n",
            "10984  69013d19f8db4cd7dc9f3b5c2564a96f  ...                250.0\n",
            "29722  f32c4d2b078bc5a354f4c1184522b5ff  ...                450.0\n",
            "15259  c8eab0ccabe8cdfc2afce66c1c554ae2  ...                100.0\n",
            "...                                 ...  ...                  ...\n",
            "2891   1d0e8770169496e47622b6cbc0d10bda  ...                900.0\n",
            "36815  4bff82a994068f564e54b52b08ef4512  ...                150.0\n",
            "8175   e6b1fa22555c3064f984ebeb8a88de77  ...                250.0\n",
            "4034   8ac2728285fd4228f35d907768b5288a  ...               1700.0\n",
            "32994  0286e258217733541e80588e29c208c1  ...                700.0\n",
            "\n",
            "[49999 rows x 12 columns]\n",
            "product_category_name\n",
            "automotive     2129.559039\n",
            "beauty         2120.088396\n",
            "electronics    2144.751191\n",
            "fashion        2246.516901\n",
            "gadget         2229.632942\n",
            "sports         2251.879909\n",
            "toys           2203.863643\n",
            "utilities      2291.029868\n",
            "Name: product_weight_gram, dtype: float64\n",
            "product_category_name\n",
            "automotive     3799.884166\n",
            "beauty         3837.474929\n",
            "electronics    3839.271768\n",
            "fashion        3858.885213\n",
            "gadget         3955.792741\n",
            "sports         4032.850044\n",
            "toys           3956.814749\n",
            "utilities      4150.509909\n",
            "Name: product_weight_gram, dtype: float64\n"
          ],
          "name": "stdout"
        },
        {
          "output_type": "display_data",
          "data": {
            "image/png": "[encoded data removed]",
            "text/plain": [
              "<Figure size 288x360 with 1 Axes>"
            ]
          },
          "metadata": {
            "tags": [],
            "needs_background": "light"
          }
        }
      ]
    }
  ]
}